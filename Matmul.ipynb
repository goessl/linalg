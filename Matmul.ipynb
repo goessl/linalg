{
 "cells": [
  {
   "cell_type": "code",
   "execution_count": 1,
   "id": "6091976f-ad6f-458f-8aec-25e4b87530db",
   "metadata": {},
   "outputs": [],
   "source": [
    "import numpy as np\n",
    "from collections import Counter\n",
    "\n",
    "def matmul(A, B):\n",
    "    counter = Counter()\n",
    "    C = np.empty((A.shape[0], B.shape[1]), dtype=np.result_type(A, B))\n",
    "    for i, j in np.ndindex(*C.shape):\n",
    "        C[i, j] = A[i, 0] * B[0, j]\n",
    "        counter['*'] += 1\n",
    "        for k in range(1, A.shape[1]):\n",
    "            d = A[i, k] * B[k, j]\n",
    "            counter['*'] += 1\n",
    "            C[i, j] += d\n",
    "            counter['+'] += 1\n",
    "    return C, counter\n",
    "\n",
    "for _ in range(100):\n",
    "    L, N, M = np.random.randint(1, 20, size=3)\n",
    "    A = np.random.randint(-100, +100, size=(L, N))\n",
    "    B = np.random.randint(-100, +100, size=(N, M))\n",
    "    prediction, counter = matmul(A, B)\n",
    "    actual = A @ B\n",
    "    assert np.array_equal(prediction, actual)\n",
    "    assert counter['+'] == L*(N-1)*M\n",
    "    assert counter['*'] == L*N*M\n",
    "    assert counter.total() == L*(2*N-1)*M"
   ]
  }
 ],
 "metadata": {
  "kernelspec": {
   "display_name": "Python 3 (ipykernel)",
   "language": "python",
   "name": "python3"
  },
  "language_info": {
   "codemirror_mode": {
    "name": "ipython",
    "version": 3
   },
   "file_extension": ".py",
   "mimetype": "text/x-python",
   "name": "python",
   "nbconvert_exporter": "python",
   "pygments_lexer": "ipython3",
   "version": "3.12.1"
  }
 },
 "nbformat": 4,
 "nbformat_minor": 5
}
